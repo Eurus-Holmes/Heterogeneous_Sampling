{
  "nbformat": 4,
  "nbformat_minor": 0,
  "metadata": {
    "colab": {
      "name": "DIR-GNN.ipynb",
      "provenance": []
    },
    "kernelspec": {
      "name": "python3",
      "display_name": "Python 3"
    },
    "language_info": {
      "name": "python"
    },
    "accelerator": "GPU"
  },
  "cells": [
    {
      "cell_type": "code",
      "execution_count": 1,
      "metadata": {
        "colab": {
          "base_uri": "https://localhost:8080/"
        },
        "id": "RHxgk5Q8BDoW",
        "outputId": "c102b92a-a164-428e-aba0-980cd50bd8aa"
      },
      "outputs": [
        {
          "output_type": "stream",
          "name": "stdout",
          "text": [
            "Cloning into 'DIR-GNN'...\n",
            "remote: Enumerating objects: 138, done.\u001b[K\n",
            "remote: Counting objects: 100% (138/138), done.\u001b[K\n",
            "remote: Compressing objects: 100% (103/103), done.\u001b[K\n",
            "remote: Total 138 (delta 59), reused 88 (delta 27), pack-reused 0\u001b[K\n",
            "Receiving objects: 100% (138/138), 6.26 MiB | 5.18 MiB/s, done.\n",
            "Resolving deltas: 100% (59/59), done.\n"
          ]
        }
      ],
      "source": [
        "!git clone https://github.com/Wuyxin/DIR-GNN"
      ]
    },
    {
      "cell_type": "code",
      "source": [
        "%cd DIR-GNN/"
      ],
      "metadata": {
        "colab": {
          "base_uri": "https://localhost:8080/"
        },
        "id": "7MilINrjDf1T",
        "outputId": "48c230c0-1c9d-4e1d-97f9-52657203fd11"
      },
      "execution_count": 2,
      "outputs": [
        {
          "output_type": "stream",
          "name": "stdout",
          "text": [
            "/content/DIR-GNN\n"
          ]
        }
      ]
    },
    {
      "cell_type": "code",
      "source": [
        "!pip install torch_geometric"
      ],
      "metadata": {
        "colab": {
          "base_uri": "https://localhost:8080/"
        },
        "id": "ieES4tD_Fe6f",
        "outputId": "e123c62d-251a-4463-f73f-9c18b35c39a5"
      },
      "execution_count": 3,
      "outputs": [
        {
          "output_type": "stream",
          "name": "stdout",
          "text": [
            "Collecting torch_geometric\n",
            "  Downloading torch_geometric-2.0.4.tar.gz (407 kB)\n",
            "\u001b[K     |████████████████████████████████| 407 kB 4.2 MB/s \n",
            "\u001b[?25hRequirement already satisfied: tqdm in /usr/local/lib/python3.7/dist-packages (from torch_geometric) (4.64.0)\n",
            "Requirement already satisfied: numpy in /usr/local/lib/python3.7/dist-packages (from torch_geometric) (1.21.6)\n",
            "Requirement already satisfied: scipy in /usr/local/lib/python3.7/dist-packages (from torch_geometric) (1.4.1)\n",
            "Requirement already satisfied: pandas in /usr/local/lib/python3.7/dist-packages (from torch_geometric) (1.3.5)\n",
            "Requirement already satisfied: jinja2 in /usr/local/lib/python3.7/dist-packages (from torch_geometric) (2.11.3)\n",
            "Requirement already satisfied: requests in /usr/local/lib/python3.7/dist-packages (from torch_geometric) (2.23.0)\n",
            "Requirement already satisfied: pyparsing in /usr/local/lib/python3.7/dist-packages (from torch_geometric) (3.0.8)\n",
            "Requirement already satisfied: scikit-learn in /usr/local/lib/python3.7/dist-packages (from torch_geometric) (1.0.2)\n",
            "Requirement already satisfied: MarkupSafe>=0.23 in /usr/local/lib/python3.7/dist-packages (from jinja2->torch_geometric) (2.0.1)\n",
            "Requirement already satisfied: python-dateutil>=2.7.3 in /usr/local/lib/python3.7/dist-packages (from pandas->torch_geometric) (2.8.2)\n",
            "Requirement already satisfied: pytz>=2017.3 in /usr/local/lib/python3.7/dist-packages (from pandas->torch_geometric) (2022.1)\n",
            "Requirement already satisfied: six>=1.5 in /usr/local/lib/python3.7/dist-packages (from python-dateutil>=2.7.3->pandas->torch_geometric) (1.15.0)\n",
            "Requirement already satisfied: chardet<4,>=3.0.2 in /usr/local/lib/python3.7/dist-packages (from requests->torch_geometric) (3.0.4)\n",
            "Requirement already satisfied: certifi>=2017.4.17 in /usr/local/lib/python3.7/dist-packages (from requests->torch_geometric) (2021.10.8)\n",
            "Requirement already satisfied: idna<3,>=2.5 in /usr/local/lib/python3.7/dist-packages (from requests->torch_geometric) (2.10)\n",
            "Requirement already satisfied: urllib3!=1.25.0,!=1.25.1,<1.26,>=1.21.1 in /usr/local/lib/python3.7/dist-packages (from requests->torch_geometric) (1.24.3)\n",
            "Requirement already satisfied: threadpoolctl>=2.0.0 in /usr/local/lib/python3.7/dist-packages (from scikit-learn->torch_geometric) (3.1.0)\n",
            "Requirement already satisfied: joblib>=0.11 in /usr/local/lib/python3.7/dist-packages (from scikit-learn->torch_geometric) (1.1.0)\n",
            "Building wheels for collected packages: torch-geometric\n",
            "  Building wheel for torch-geometric (setup.py) ... \u001b[?25l\u001b[?25hdone\n",
            "  Created wheel for torch-geometric: filename=torch_geometric-2.0.4-py3-none-any.whl size=616603 sha256=e308213c1df14ef9172ae2e196cde2cfddad4a7969f629ef844bb4d5f3d5ea3b\n",
            "  Stored in directory: /root/.cache/pip/wheels/18/a6/a4/ca18c3051fcead866fe7b85700ee2240d883562a1bc70ce421\n",
            "Successfully built torch-geometric\n",
            "Installing collected packages: torch-geometric\n",
            "Successfully installed torch-geometric-2.0.4\n"
          ]
        }
      ]
    },
    {
      "cell_type": "code",
      "source": [
        "!pip install torch_sparse"
      ],
      "metadata": {
        "colab": {
          "base_uri": "https://localhost:8080/"
        },
        "id": "4VlxaMQ7Fhnp",
        "outputId": "5b420025-87df-42b9-dec7-93f39fd6a302"
      },
      "execution_count": 4,
      "outputs": [
        {
          "output_type": "stream",
          "name": "stdout",
          "text": [
            "Collecting torch_sparse\n",
            "  Downloading torch_sparse-0.6.13.tar.gz (48 kB)\n",
            "\u001b[?25l\r\u001b[K     |██████▊                         | 10 kB 22.8 MB/s eta 0:00:01\r\u001b[K     |█████████████▌                  | 20 kB 8.8 MB/s eta 0:00:01\r\u001b[K     |████████████████████▎           | 30 kB 7.6 MB/s eta 0:00:01\r\u001b[K     |███████████████████████████     | 40 kB 3.6 MB/s eta 0:00:01\r\u001b[K     |████████████████████████████████| 48 kB 2.5 MB/s \n",
            "\u001b[?25hRequirement already satisfied: scipy in /usr/local/lib/python3.7/dist-packages (from torch_sparse) (1.4.1)\n",
            "Requirement already satisfied: numpy>=1.13.3 in /usr/local/lib/python3.7/dist-packages (from scipy->torch_sparse) (1.21.6)\n",
            "Building wheels for collected packages: torch-sparse\n",
            "  Building wheel for torch-sparse (setup.py) ... \u001b[?25l\u001b[?25hdone\n",
            "  Created wheel for torch-sparse: filename=torch_sparse-0.6.13-cp37-cp37m-linux_x86_64.whl size=1576578 sha256=31e16c93977600909b8fe041f147fb0cf438b589ca8afc9fcf78c40e85ba4b9d\n",
            "  Stored in directory: /root/.cache/pip/wheels/e0/01/be/6b2966e0ff20bb023ae35e5d17903e6e5b4df46dd5892f6be6\n",
            "Successfully built torch-sparse\n",
            "Installing collected packages: torch-sparse\n",
            "Successfully installed torch-sparse-0.6.13\n"
          ]
        }
      ]
    },
    {
      "cell_type": "code",
      "source": [
        "!pip install torch_scatter"
      ],
      "metadata": {
        "colab": {
          "base_uri": "https://localhost:8080/"
        },
        "id": "rWL5V-VRDrK-",
        "outputId": "5124e367-b3f7-437d-912e-a7f6d70ae485"
      },
      "execution_count": 6,
      "outputs": [
        {
          "output_type": "stream",
          "name": "stdout",
          "text": [
            "Collecting torch_scatter\n",
            "  Downloading torch_scatter-2.0.9.tar.gz (21 kB)\n",
            "Building wheels for collected packages: torch-scatter\n",
            "  Building wheel for torch-scatter (setup.py) ... \u001b[?25l\u001b[?25hdone\n",
            "  Created wheel for torch-scatter: filename=torch_scatter-2.0.9-cp37-cp37m-linux_x86_64.whl size=3222247 sha256=1e31517acde22cf19cb4667c2b1ce042f027d2bf6134dbcd37674b55f615dd4f\n",
            "  Stored in directory: /root/.cache/pip/wheels/dd/57/a3/42ea193b77378ce634eb9454c9bc1e3163f3b482a35cdee4d1\n",
            "Successfully built torch-scatter\n",
            "Installing collected packages: torch-scatter\n",
            "Successfully installed torch-scatter-2.0.9\n"
          ]
        }
      ]
    },
    {
      "cell_type": "code",
      "source": [
        "!pip install ogb"
      ],
      "metadata": {
        "colab": {
          "base_uri": "https://localhost:8080/"
        },
        "id": "TtOV1_GGHTP5",
        "outputId": "4df225cb-519b-4b26-ba51-3434d10d753d"
      },
      "execution_count": 8,
      "outputs": [
        {
          "output_type": "stream",
          "name": "stdout",
          "text": [
            "Collecting ogb\n",
            "  Downloading ogb-1.3.3-py3-none-any.whl (78 kB)\n",
            "\u001b[?25l\r\u001b[K     |████▏                           | 10 kB 24.6 MB/s eta 0:00:01\r\u001b[K     |████████▍                       | 20 kB 8.5 MB/s eta 0:00:01\r\u001b[K     |████████████▋                   | 30 kB 7.2 MB/s eta 0:00:01\r\u001b[K     |████████████████▊               | 40 kB 3.6 MB/s eta 0:00:01\r\u001b[K     |█████████████████████           | 51 kB 3.6 MB/s eta 0:00:01\r\u001b[K     |█████████████████████████▏      | 61 kB 4.3 MB/s eta 0:00:01\r\u001b[K     |█████████████████████████████▎  | 71 kB 4.5 MB/s eta 0:00:01\r\u001b[K     |████████████████████████████████| 78 kB 3.1 MB/s \n",
            "\u001b[?25hRequirement already satisfied: tqdm>=4.29.0 in /usr/local/lib/python3.7/dist-packages (from ogb) (4.64.0)\n",
            "Requirement already satisfied: numpy>=1.16.0 in /usr/local/lib/python3.7/dist-packages (from ogb) (1.21.6)\n",
            "Requirement already satisfied: torch>=1.6.0 in /usr/local/lib/python3.7/dist-packages (from ogb) (1.11.0+cu113)\n",
            "Requirement already satisfied: six>=1.12.0 in /usr/local/lib/python3.7/dist-packages (from ogb) (1.15.0)\n",
            "Requirement already satisfied: urllib3>=1.24.0 in /usr/local/lib/python3.7/dist-packages (from ogb) (1.24.3)\n",
            "Requirement already satisfied: scikit-learn>=0.20.0 in /usr/local/lib/python3.7/dist-packages (from ogb) (1.0.2)\n",
            "Requirement already satisfied: pandas>=0.24.0 in /usr/local/lib/python3.7/dist-packages (from ogb) (1.3.5)\n",
            "Collecting outdated>=0.2.0\n",
            "  Downloading outdated-0.2.1-py3-none-any.whl (7.5 kB)\n",
            "Collecting littleutils\n",
            "  Downloading littleutils-0.2.2.tar.gz (6.6 kB)\n",
            "Requirement already satisfied: requests in /usr/local/lib/python3.7/dist-packages (from outdated>=0.2.0->ogb) (2.23.0)\n",
            "Requirement already satisfied: pytz>=2017.3 in /usr/local/lib/python3.7/dist-packages (from pandas>=0.24.0->ogb) (2022.1)\n",
            "Requirement already satisfied: python-dateutil>=2.7.3 in /usr/local/lib/python3.7/dist-packages (from pandas>=0.24.0->ogb) (2.8.2)\n",
            "Requirement already satisfied: joblib>=0.11 in /usr/local/lib/python3.7/dist-packages (from scikit-learn>=0.20.0->ogb) (1.1.0)\n",
            "Requirement already satisfied: threadpoolctl>=2.0.0 in /usr/local/lib/python3.7/dist-packages (from scikit-learn>=0.20.0->ogb) (3.1.0)\n",
            "Requirement already satisfied: scipy>=1.1.0 in /usr/local/lib/python3.7/dist-packages (from scikit-learn>=0.20.0->ogb) (1.4.1)\n",
            "Requirement already satisfied: typing-extensions in /usr/local/lib/python3.7/dist-packages (from torch>=1.6.0->ogb) (4.2.0)\n",
            "Requirement already satisfied: certifi>=2017.4.17 in /usr/local/lib/python3.7/dist-packages (from requests->outdated>=0.2.0->ogb) (2021.10.8)\n",
            "Requirement already satisfied: chardet<4,>=3.0.2 in /usr/local/lib/python3.7/dist-packages (from requests->outdated>=0.2.0->ogb) (3.0.4)\n",
            "Requirement already satisfied: idna<3,>=2.5 in /usr/local/lib/python3.7/dist-packages (from requests->outdated>=0.2.0->ogb) (2.10)\n",
            "Building wheels for collected packages: littleutils\n",
            "  Building wheel for littleutils (setup.py) ... \u001b[?25l\u001b[?25hdone\n",
            "  Created wheel for littleutils: filename=littleutils-0.2.2-py3-none-any.whl size=7048 sha256=af0e9737ee74ba8bbfc05f6956ac32d3181100002bb2741b7217d119c8330a2a\n",
            "  Stored in directory: /root/.cache/pip/wheels/d6/64/cd/32819b511a488e4993f2fab909a95330289c3f4e0f6ef4676d\n",
            "Successfully built littleutils\n",
            "Installing collected packages: littleutils, outdated, ogb\n",
            "Successfully installed littleutils-0.2.2 ogb-1.3.3 outdated-0.2.1\n"
          ]
        }
      ]
    },
    {
      "cell_type": "code",
      "source": [
        "!pip install texttable"
      ],
      "metadata": {
        "colab": {
          "base_uri": "https://localhost:8080/"
        },
        "id": "pGjDehQnHjT_",
        "outputId": "e1761e1b-3c92-4874-a6fe-6f311a5b51aa"
      },
      "execution_count": 10,
      "outputs": [
        {
          "output_type": "stream",
          "name": "stdout",
          "text": [
            "Collecting texttable\n",
            "  Downloading texttable-1.6.4-py2.py3-none-any.whl (10 kB)\n",
            "Installing collected packages: texttable\n",
            "Successfully installed texttable-1.6.4\n"
          ]
        }
      ]
    },
    {
      "cell_type": "code",
      "source": [
        "!python -m train.mnistsp_dir --epoch 10 --channels 16 --batch_size 4"
      ],
      "metadata": {
        "colab": {
          "base_uri": "https://localhost:8080/"
        },
        "id": "Co2mFeJsD56o",
        "outputId": "f56a1a64-4254-4e53-ed5d-4a5ac2bc697b"
      },
      "execution_count": 19,
      "outputs": [
        {
          "output_type": "stream",
          "name": "stdout",
          "text": [
            "/usr/local/lib/python3.7/dist-packages/torch_geometric/deprecation.py:12: UserWarning: 'data.DataLoader' is deprecated, use 'loader.DataLoader' instead\n",
            "  warnings.warn(out)\n",
            "2022-05-06 02:34:41,111 - /content/DIR-GNN/utils/helper.py[line:49] - INFO: +------------+-------+\n",
            "| Parameter  | Value |\n",
            "+------------+-------+\n",
            "| cuda       | 0     |\n",
            "+------------+-------+\n",
            "| datadir    | data/ |\n",
            "+------------+-------+\n",
            "| epoch      | 10    |\n",
            "+------------+-------+\n",
            "| reg        | 1     |\n",
            "+------------+-------+\n",
            "| seed       | [1]   |\n",
            "+------------+-------+\n",
            "| channels   | 16    |\n",
            "+------------+-------+\n",
            "| commit     |       |\n",
            "+------------+-------+\n",
            "| pretrain   | 20    |\n",
            "+------------+-------+\n",
            "| alpha      | 0.000 |\n",
            "+------------+-------+\n",
            "| r          | 0.800 |\n",
            "+------------+-------+\n",
            "| batch_size | 4     |\n",
            "+------------+-------+\n",
            "| net_lr     | 0.001 |\n",
            "+------------+-------+\n",
            "2022-05-06 02:38:38,470 - /content/DIR-GNN/train/mnistsp_dir.py[line:231] - INFO: Epoch [  0/10]  all_loss:2.472=[XE:2.472  IL:0.000000]  Train_ACC:0.137 Test_ACC[0.123  0.096]  Val_ACC:0.137  \n",
            "2022-05-06 02:42:32,301 - /content/DIR-GNN/train/mnistsp_dir.py[line:231] - INFO: Epoch [  1/10]  all_loss:2.401=[XE:2.401  IL:0.000000]  Train_ACC:0.148 Test_ACC[0.124  0.101]  Val_ACC:0.149  \n",
            "2022-05-06 02:46:21,309 - /content/DIR-GNN/train/mnistsp_dir.py[line:231] - INFO: Epoch [  2/10]  all_loss:2.352=[XE:2.352  IL:0.000001]  Train_ACC:0.148 Test_ACC[0.126  0.103]  Val_ACC:0.154  \n",
            "2022-05-06 02:50:08,760 - /content/DIR-GNN/train/mnistsp_dir.py[line:231] - INFO: Epoch [  3/10]  all_loss:2.321=[XE:2.321  IL:0.000001]  Train_ACC:0.145 Test_ACC[0.126  0.093]  Val_ACC:0.152  \n",
            "2022-05-06 02:53:54,665 - /content/DIR-GNN/train/mnistsp_dir.py[line:231] - INFO: Epoch [  4/10]  all_loss:2.298=[XE:2.298  IL:0.000001]  Train_ACC:0.145 Test_ACC[0.128  0.087]  Val_ACC:0.152  \n",
            "2022-05-06 02:57:40,705 - /content/DIR-GNN/train/mnistsp_dir.py[line:231] - INFO: Epoch [  5/10]  all_loss:2.282=[XE:2.282  IL:0.000001]  Train_ACC:0.145 Test_ACC[0.132  0.094]  Val_ACC:0.154  \n",
            "2022-05-06 03:01:26,579 - /content/DIR-GNN/train/mnistsp_dir.py[line:231] - INFO: Epoch [  6/10]  all_loss:2.270=[XE:2.270  IL:0.000001]  Train_ACC:0.181 Test_ACC[0.137  0.107]  Val_ACC:0.186  \n",
            "2022-05-06 03:05:13,414 - /content/DIR-GNN/train/mnistsp_dir.py[line:231] - INFO: Epoch [  7/10]  all_loss:2.260=[XE:2.260  IL:0.000001]  Train_ACC:0.188 Test_ACC[0.152  0.115]  Val_ACC:0.193  \n",
            "2022-05-06 03:08:58,453 - /content/DIR-GNN/train/mnistsp_dir.py[line:231] - INFO: Epoch [  8/10]  all_loss:2.253=[XE:2.253  IL:0.000001]  Train_ACC:0.202 Test_ACC[0.171  0.122]  Val_ACC:0.201  \n",
            "2022-05-06 03:12:44,677 - /content/DIR-GNN/train/mnistsp_dir.py[line:231] - INFO: Epoch [  9/10]  all_loss:2.245=[XE:2.245  IL:0.000001]  Train_ACC:0.198 Test_ACC[0.173  0.131]  Val_ACC:0.191  \n",
            "2022-05-06 03:12:44,687 - /content/DIR-GNN/train/mnistsp_dir.py[line:251] - INFO: ====================================================================================================\n",
            "2022-05-06 03:12:44,688 - /content/DIR-GNN/train/mnistsp_dir.py[line:257] - INFO: Causal ACC:0.1734-+-nan  Conf ACC:0.1306-+-nan  Train ACC:0.1977-+-nan  Val ACC:0.1914-+-nan  \n"
          ]
        }
      ]
    }
  ]
}